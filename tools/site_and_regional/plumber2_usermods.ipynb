{
 "cells": [
  {
   "cell_type": "code",
   "execution_count": 1,
   "id": "8627d889-c2ca-45e0-834b-e87a0b0885b2",
   "metadata": {},
   "outputs": [],
   "source": [
    "#! /usr/bin/env python3\n",
    "\"\"\"\n",
    "\n",
    "Reads in .csv files with PLUMBER2 site information\n",
    "Creates individual usermod_dirs for each PLUMBER2 site with shell_commands\n",
    "\n",
    "\"\"\"\n",
    "\n",
    "#  Import libraries\n",
    "from __future__ import print_function\n",
    "\n",
    "import os\n",
    "import sys\n",
    "import tqdm\n",
    "import logging\n",
    "import subprocess\n",
    "\n",
    "import pandas as pd"
   ]
  },
  {
   "cell_type": "code",
   "execution_count": 4,
   "id": "3130ac78-36a6-4262-a7f7-98722cdc7498",
   "metadata": {},
   "outputs": [],
   "source": [
    "# Big ugly function to create usermod_dirs for each site\n",
    "def write_usermods(lat,lon,site,start_year,end_year,\n",
    "                  start_date,start_tod,atm_ncpl,stop_n):    \n",
    "\n",
    "    site_dir = os.path.join('../../cime_config/usermods_dirs/PLUMBER2/',site)\n",
    "\n",
    "    if not os.path.isdir(site_dir):\n",
    "        os.makedirs(site_dir, exist_ok=True)    \n",
    "        \n",
    "    # create files in each directory\n",
    "    include = os.path.join(site_dir,'include_user_mods')\n",
    "    iFile = open(include, 'w') # or 'a' to add text instead of truncate\n",
    "    iFile.write('../defaults')\n",
    "    iFile.close()\n",
    "    \n",
    "    #TODO, move these input files do a different directory and update script\n",
    "    LAIstream = '/glade/work/oleson/PLUMBER2/input_files/${PLUMBER2SITE}/LAI_stream_${PLUMBER2SITE}_'+ \\\n",
    "                str(start_year)+'-'+str(end_year)+'.nc'\n",
    "    shell = os.path.join(site_dir,'shell_commands')\n",
    "    sFile = open(shell, 'w') # or 'a' to add text instead of truncate\n",
    "    sFile.write(\n",
    "        './xmlchange PLUMBER2SITE='+site + '\\n' \\\n",
    "        './xmlchange PTS_LON='+str(lon) + '\\n' \\\n",
    "        './xmlchange PTS_LAT='+str(lat) + '\\n' \\\n",
    "        './xmlchange RUN_STARTDATE='+str(start_date) + '\\n' \\\n",
    "        './xmlchange DATM_YR_ALIGN='+str(start_year) + '\\n' \\\n",
    "        './xmlchange DATM_YR_START='+str(start_year) + '\\n' \\\n",
    "        './xmlchange DATM_YR_END='+str(end_year) + '\\n' \\\n",
    "        './xmlchange START_TOD='+str(start_tod) + '\\n' \\\n",
    "        './xmlchange ATM_NCPL='+str(atm_ncpl) + '\\n' \\\n",
    "        '\\n' \\\n",
    "\n",
    "        'compset=`./xmlquery COMPSET --value` \\n' \\\n",
    "        'CLM_USRDAT_NAME=`./xmlquery CLM_USRDAT_NAME --value` \\n' \\\n",
    "        'TEST=`./xmlquery TEST --value` \\n' \\\n",
    "        '\\n' \\\n",
    "\n",
    "        '# For a transient case run the whole length and do not cycle \\n' \\\n",
    "        'if  [[ $compset =~ ^HIST ]]; then \\n' \\\n",
    "        '  # Number of years that can be run for the full transient case \\n' \\\n",
    "        '  if [[ $TEST != \"TRUE\" ]]; then  \\n' \\\n",
    "        '    ./xmlchange STOP_N='+str(stop_n) + '\\n' \\\n",
    "        '  fi \\n' \\\n",
    "        'fi \\n'  \\\n",
    "        '\\n' \\\n",
    "\n",
    "        '# Turn on LAI streams for a SP case \\n' \\\n",
    "        'if [[ $compset =~ .*CLM[0-9]+%[^_]*SP.* ]]; then \\n' \\\n",
    "        '  echo \"stream_fldfilename_lai=\\''+LAIstream+'\\'\" >> user_nl_clm \\n' \\\n",
    "        '  echo \"model_year_align_lai='+str(start_year) + '\" >> user_nl_clm \\n' \\\n",
    "        '  echo \"stream_year_first_lai='+str(start_year) + '\" >> user_nl_clm \\n' \\\n",
    "        '  echo \"stream_year_last_lai='+str(end_year) + '\" >> user_nl_clm \\n' \\\n",
    "        'fi \\n'      \n",
    "    )\n",
    "\n",
    "    sFile.close()\n",
    "    \n",
    "    # add baseflow_scalar = 0 to user_nl_clm for wetland sites\n",
    "    wetland = [\"CZ-wet\",\"DE-SfN\",\"FI-Kaa\",\"FI-Lom\",\"RU-Che\",\\\n",
    "               \"SE-Deg\",\"US-Los\",\"US-Myb\",\"US-Tw4\",\"PL-wet\"]\n",
    "    if any(x == site for x in wetland):\n",
    "        sFile = open(shell, 'a') # or 'a' to add text instead of truncate\n",
    "        sFile.write(\n",
    "            '\\n' \\\n",
    "            '# set baseflow scalar to zero for wetland site \\n' \\\n",
    "            'echo \"baseflow_scalar = 0\" >> user_nl_clm'\n",
    "        )\n",
    "        sFile.close()\n"
   ]
  },
  {
   "cell_type": "code",
   "execution_count": 6,
   "id": "aead8b4e-d304-4f85-b411-5a90db2b0835",
   "metadata": {},
   "outputs": [
    {
     "name": "stderr",
     "output_type": "stream",
     "text": [
      "57it [00:04, 15.17it/s]"
     ]
    },
    {
     "name": "stdout",
     "output_type": "stream",
     "text": [
      "wetland CZ-wet\n"
     ]
    },
    {
     "name": "stderr",
     "output_type": "stream",
     "text": [
      "65it [00:04, 17.19it/s]"
     ]
    },
    {
     "name": "stdout",
     "output_type": "stream",
     "text": [
      "wetland DE-SfN\n"
     ]
    },
    {
     "name": "stderr",
     "output_type": "stream",
     "text": [
      "78it [00:05, 29.02it/s]"
     ]
    },
    {
     "name": "stdout",
     "output_type": "stream",
     "text": [
      "wetland FI-Kaa\n",
      "wetland FI-Lom\n"
     ]
    },
    {
     "name": "stderr",
     "output_type": "stream",
     "text": [
      "116it [00:07, 22.57it/s]"
     ]
    },
    {
     "name": "stdout",
     "output_type": "stream",
     "text": [
      "wetland PL-wet\n"
     ]
    },
    {
     "name": "stderr",
     "output_type": "stream",
     "text": [
      "119it [00:07, 23.59it/s]"
     ]
    },
    {
     "name": "stdout",
     "output_type": "stream",
     "text": [
      "wetland RU-Che\n"
     ]
    },
    {
     "name": "stderr",
     "output_type": "stream",
     "text": [
      "125it [00:07, 19.61it/s]"
     ]
    },
    {
     "name": "stdout",
     "output_type": "stream",
     "text": [
      "wetland SE-Deg\n"
     ]
    },
    {
     "name": "stderr",
     "output_type": "stream",
     "text": [
      "143it [00:08, 20.45it/s]"
     ]
    },
    {
     "name": "stdout",
     "output_type": "stream",
     "text": [
      "wetland US-Los\n"
     ]
    },
    {
     "name": "stderr",
     "output_type": "stream",
     "text": [
      "148it [00:09, 12.16it/s]"
     ]
    },
    {
     "name": "stdout",
     "output_type": "stream",
     "text": [
      "wetland US-Myb\n"
     ]
    },
    {
     "name": "stderr",
     "output_type": "stream",
     "text": [
      "165it [00:10, 24.01it/s]"
     ]
    },
    {
     "name": "stdout",
     "output_type": "stream",
     "text": [
      "wetland US-Tw4\n"
     ]
    },
    {
     "name": "stderr",
     "output_type": "stream",
     "text": [
      "170it [00:10, 16.50it/s]\n"
     ]
    }
   ],
   "source": [
    "# For now we can just run the 'main' program as a loop\n",
    "\n",
    "plumber2_sites = pd.read_csv('PLUMBER2_sites.csv', skiprows=4)  \n",
    "\n",
    "for i, row in tqdm.tqdm(plumber2_sites.iterrows()):\n",
    "    lat = row['Lat']\n",
    "    lon = row['Lon']\n",
    "    site = row['Site']\n",
    "    start_year = row['start_year']\n",
    "    end_year = row['end_year']\n",
    "    start_date = row['RUN_STARTDATE']\n",
    "    start_tod = row['START_TOD']\n",
    "    atm_ncpl = row['ATM_NCPL']\n",
    "    stop_n = 1+end_year-start_year\n",
    "    \n",
    "    write_usermods(lat,lon,site,start_year,end_year,\n",
    "                  start_date,start_tod,atm_ncpl,stop_n)"
   ]
  },
  {
   "cell_type": "code",
   "execution_count": 7,
   "id": "a8268518-5a08-4a85-98a5-f9d7d3505605",
   "metadata": {},
   "outputs": [
    {
     "name": "stdout",
     "output_type": "stream",
     "text": [
      "./xmlchange PLUMBER2SITE=ZM-Mon\n",
      "./xmlchange PTS_LON=23.252781\n",
      "./xmlchange PTS_LAT=-15.437778\n",
      "./xmlchange RUN_STARTDATE=2007-12-31\n",
      "./xmlchange DATM_YR_ALIGN=2008\n",
      "./xmlchange DATM_YR_START=2008\n",
      "./xmlchange DATM_YR_END=2008\n",
      "./xmlchange START_TOD=79200\n",
      "./xmlchange ATM_NCPL=48\n",
      "\n",
      "compset=`./xmlquery COMPSET --value` \n",
      "CLM_USRDAT_NAME=`./xmlquery CLM_USRDAT_NAME --value` \n",
      "TEST=`./xmlquery TEST --value` \n",
      "\n",
      "# For a transient case run the whole length and do not cycle \n",
      "if  [[ $compset =~ ^HIST ]]; then \n",
      "  # Number of years that can be run for the full transient case \n",
      "  if [[ $TEST != \"TRUE\" ]]; then  \n",
      "    ./xmlchange STOP_N=1\n",
      "  fi \n",
      "fi \n",
      "\n",
      "# Turn on LAI streams for a SP case \n",
      "if [[ $compset =~ .*CLM[0-9]+%[^_]*SP.* ]]; then \n",
      "  echo \"stream_fldfilename_lai='/glade/work/oleson/PLUMBER2/input_files/${PLUMBER2SITE}/LAI_stream_${PLUMBER2SITE}_2008-2008.nc'\" >> user_nl_clm \n",
      "  echo \"model_year_align_lai=2008\" >> user_nl_clm \n",
      "  echo \"stream_year_first_lai=2008\" >> user_nl_clm \n",
      "  echo \"stream_year_last_lai=2008\" >> user_nl_clm \n",
      "fi \n"
     ]
    }
   ],
   "source": [
    "cat ../../cime_config/usermods_dirs/PLUMBER2/ZM-Mon/shell_commands"
   ]
  },
  {
   "cell_type": "code",
   "execution_count": null,
   "id": "785b8c94-fd63-4067-be45-fe93b9244e77",
   "metadata": {},
   "outputs": [],
   "source": []
  }
 ],
 "metadata": {
  "kernelspec": {
   "display_name": "Python 3 (ipykernel)",
   "language": "python",
   "name": "python3"
  },
  "language_info": {
   "codemirror_mode": {
    "name": "ipython",
    "version": 3
   },
   "file_extension": ".py",
   "mimetype": "text/x-python",
   "name": "python",
   "nbconvert_exporter": "python",
   "pygments_lexer": "ipython3",
   "version": "3.9.12"
  }
 },
 "nbformat": 4,
 "nbformat_minor": 5
}
